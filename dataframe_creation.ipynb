{
 "cells": [
  {
   "cell_type": "markdown",
   "id": "05234808-1227-4436-bc3a-5157184084c7",
   "metadata": {},
   "source": [
    "# creo un dataframe"
   ]
  },
  {
   "cell_type": "code",
   "execution_count": 10,
   "id": "265fee22-7a19-44d2-b1e0-2c342410a5c2",
   "metadata": {},
   "outputs": [
    {
     "name": "stdout",
     "output_type": "stream",
     "text": [
      "      Name  Age         City\n",
      "0    Alice   25     New York\n",
      "1      Bob   30  Los Angeles\n",
      "2  Charlie   35      Chicago\n"
     ]
    }
   ],
   "source": [
    "import pandas as pd\n",
    "data= {\n",
    "    'Name': ['Alice','Bob','Charlie'],\n",
    "    'Age': [25, 30, 35],\n",
    "    'City':['New York','Los Angeles','Chicago'] \n",
    "}\n",
    "df = pd.DataFrame(data)\n",
    "print(df)"
   ]
  },
  {
   "cell_type": "code",
   "execution_count": 2,
   "id": "8e07b1e3-3b9b-47ec-a693-7ac1b6f0e800",
   "metadata": {},
   "outputs": [],
   "source": [
    "col=df[\"Name\"]"
   ]
  },
  {
   "cell_type": "code",
   "execution_count": 3,
   "id": "effb7c3f-0baa-4878-91e6-0b94a5303ebb",
   "metadata": {},
   "outputs": [
    {
     "data": {
      "text/plain": [
       "\u001b[1;31mSignature:\u001b[0m \u001b[0mcol\u001b[0m\u001b[1;33m.\u001b[0m\u001b[0midxmax\u001b[0m\u001b[1;33m(\u001b[0m\u001b[0maxis\u001b[0m\u001b[1;33m:\u001b[0m \u001b[1;34m'Axis'\u001b[0m \u001b[1;33m=\u001b[0m \u001b[1;36m0\u001b[0m\u001b[1;33m,\u001b[0m \u001b[0mskipna\u001b[0m\u001b[1;33m:\u001b[0m \u001b[1;34m'bool'\u001b[0m \u001b[1;33m=\u001b[0m \u001b[1;32mTrue\u001b[0m\u001b[1;33m,\u001b[0m \u001b[1;33m*\u001b[0m\u001b[0margs\u001b[0m\u001b[1;33m,\u001b[0m \u001b[1;33m**\u001b[0m\u001b[0mkwargs\u001b[0m\u001b[1;33m)\u001b[0m \u001b[1;33m->\u001b[0m \u001b[1;34m'Hashable'\u001b[0m\u001b[1;33m\u001b[0m\u001b[1;33m\u001b[0m\u001b[0m\n",
       "\u001b[1;31mDocstring:\u001b[0m\n",
       "Return the row label of the maximum value.\n",
       "\n",
       "If multiple values equal the maximum, the first row label with that\n",
       "value is returned.\n",
       "\n",
       "Parameters\n",
       "----------\n",
       "axis : {0 or 'index'}\n",
       "    Unused. Parameter needed for compatibility with DataFrame.\n",
       "skipna : bool, default True\n",
       "    Exclude NA/null values. If the entire Series is NA, the result\n",
       "    will be NA.\n",
       "*args, **kwargs\n",
       "    Additional arguments and keywords have no effect but might be\n",
       "    accepted for compatibility with NumPy.\n",
       "\n",
       "Returns\n",
       "-------\n",
       "Index\n",
       "    Label of the maximum value.\n",
       "\n",
       "Raises\n",
       "------\n",
       "ValueError\n",
       "    If the Series is empty.\n",
       "\n",
       "See Also\n",
       "--------\n",
       "numpy.argmax : Return indices of the maximum values\n",
       "    along the given axis.\n",
       "DataFrame.idxmax : Return index of first occurrence of maximum\n",
       "    over requested axis.\n",
       "Series.idxmin : Return index *label* of the first occurrence\n",
       "    of minimum of values.\n",
       "\n",
       "Notes\n",
       "-----\n",
       "This method is the Series version of ``ndarray.argmax``. This method\n",
       "returns the label of the maximum, while ``ndarray.argmax`` returns\n",
       "the position. To get the position, use ``series.values.argmax()``.\n",
       "\n",
       "Examples\n",
       "--------\n",
       ">>> s = pd.Series(data=[1, None, 4, 3, 4],\n",
       "...               index=['A', 'B', 'C', 'D', 'E'])\n",
       ">>> s\n",
       "A    1.0\n",
       "B    NaN\n",
       "C    4.0\n",
       "D    3.0\n",
       "E    4.0\n",
       "dtype: float64\n",
       "\n",
       ">>> s.idxmax()\n",
       "'C'\n",
       "\n",
       "If `skipna` is False and there is an NA value in the data,\n",
       "the function returns ``nan``.\n",
       "\n",
       ">>> s.idxmax(skipna=False)\n",
       "nan\n",
       "\u001b[1;31mFile:\u001b[0m      c:\\users\\marti\\pycharmprojects\\jupyter_import_file\\.env\\lib\\site-packages\\pandas\\core\\series.py\n",
       "\u001b[1;31mType:\u001b[0m      method"
      ]
     },
     "metadata": {},
     "output_type": "display_data"
    }
   ],
   "source": [
    "col.idxmax?\n"
   ]
  },
  {
   "cell_type": "code",
   "execution_count": 11,
   "id": "d5802feb-6151-4e94-93e2-23d7374659ec",
   "metadata": {},
   "outputs": [],
   "source": [
    "oldest_idx = df[\"Age\"].idxmax()"
   ]
  },
  {
   "cell_type": "code",
   "execution_count": 12,
   "id": "98a492eb-6d0b-4e4f-9f61-c53a98b6a15b",
   "metadata": {},
   "outputs": [],
   "source": [
    "oldest_record=df.loc[oldest_idx]"
   ]
  },
  {
   "cell_type": "code",
   "execution_count": 13,
   "id": "855f1145-7688-4d06-8868-e11a17218672",
   "metadata": {},
   "outputs": [
    {
     "data": {
      "text/plain": [
       "Name    Charlie\n",
       "Age          35\n",
       "City    Chicago\n",
       "Name: 2, dtype: object"
      ]
     },
     "execution_count": 13,
     "metadata": {},
     "output_type": "execute_result"
    }
   ],
   "source": [
    "oldest_record"
   ]
  },
  {
   "cell_type": "markdown",
   "id": "618b9631-ca98-4c19-afd7-9cb588811b9a",
   "metadata": {},
   "source": [
    "# MODO 2"
   ]
  },
  {
   "cell_type": "code",
   "execution_count": 16,
   "id": "7b5ee379-f31c-4550-a48b-e5f2aff9ec3a",
   "metadata": {},
   "outputs": [
    {
     "name": "stdout",
     "output_type": "stream",
     "text": [
      "      Name  Age         City\n",
      "0    Alice   25     New York\n",
      "1      Bob   30  Los Angeles\n",
      "2  Charlie   35      Chicago\n"
     ]
    }
   ],
   "source": [
    "import pandas as pd\n",
    "data= [\n",
    "    ['Alice', 25, 'New York'],\n",
    "    ['Bob', 30, 'Los Angeles'],\n",
    "    ['Charlie', 35, 'Chicago'] \n",
    "]\n",
    "df2 = pd.DataFrame(data, columns = ['Name','Age','City'])\n",
    "print(df2)"
   ]
  },
  {
   "cell_type": "code",
   "execution_count": null,
   "id": "7ae76c93-e284-469c-b56d-6b35576f6b16",
   "metadata": {},
   "outputs": [],
   "source": []
  }
 ],
 "metadata": {
  "kernelspec": {
   "display_name": "Python 3 (ipykernel)",
   "language": "python",
   "name": "python3"
  },
  "language_info": {
   "codemirror_mode": {
    "name": "ipython",
    "version": 3
   },
   "file_extension": ".py",
   "mimetype": "text/x-python",
   "name": "python",
   "nbconvert_exporter": "python",
   "pygments_lexer": "ipython3",
   "version": "3.13.1"
  }
 },
 "nbformat": 4,
 "nbformat_minor": 5
}
