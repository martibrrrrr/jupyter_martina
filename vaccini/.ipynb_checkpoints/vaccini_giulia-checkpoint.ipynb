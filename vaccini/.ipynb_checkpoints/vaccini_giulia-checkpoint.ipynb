{
 "cells": [
  {
   "cell_type": "code",
   "execution_count": 2,
   "id": "b59c6ee3-3acd-4797-9dcf-903af470b1d1",
   "metadata": {},
   "outputs": [],
   "source": [
    "import pandas as pd\n",
    "import matplotlib.pyplot as plt\n",
    "import seaborn as sn"
   ]
  },
  {
   "cell_type": "code",
   "execution_count": 7,
   "id": "d1366857-c4da-4f03-9a84-0ba99fe32693",
   "metadata": {},
   "outputs": [
    {
     "name": "stdout",
     "output_type": "stream",
     "text": [
      "<class 'pandas.core.frame.DataFrame'>\n",
      "RangeIndex: 2014 entries, 0 to 2013\n",
      "Data columns (total 10 columns):\n",
      " #   Column  Non-Null Count  Dtype \n",
      "---  ------  --------------  ----- \n",
      " 0   data    2014 non-null   object\n",
      " 1   area    2014 non-null   object\n",
      " 2   totale  2014 non-null   int64 \n",
      " 3   m       2014 non-null   int64 \n",
      " 4   f       2014 non-null   int64 \n",
      " 5   d       2014 non-null   int64 \n",
      " 6   N1      2014 non-null   object\n",
      " 7   N2      2014 non-null   object\n",
      " 8   ISTAT   2014 non-null   int64 \n",
      " 9   reg     2014 non-null   object\n",
      "dtypes: int64(5), object(5)\n",
      "memory usage: 157.5+ KB\n"
     ]
    }
   ],
   "source": [
    "df.info()"
   ]
  },
  {
   "cell_type": "code",
   "execution_count": 8,
   "id": "e05cad55-5001-4245-b77c-9d6873ea4fff",
   "metadata": {},
   "outputs": [
    {
     "data": {
      "text/plain": [
       "<bound method NDFrame.describe of             data area  totale     m     f     d   N1    N2  ISTAT  \\\n",
       "0     2024-11-28  CAM     138    73    65   138  ITF  ITF3     15   \n",
       "1     2024-10-25  FVG     487   257   230   487  ITH  ITH4      6   \n",
       "2     2024-12-03  MOL       8     4     4     8  ITF  ITF2     14   \n",
       "3     2024-11-07  TOS    3184  1489  1695  3184  ITI  ITI1      9   \n",
       "4     2024-11-03  TOS       2     0     2     2  ITI  ITI1      9   \n",
       "...          ...  ...     ...   ...   ...   ...  ...   ...    ...   \n",
       "2009  2024-12-26  EMR       4     3     1     4  ITH  ITH5      8   \n",
       "2010  2025-01-16  LIG       5     3     2     5  ITC  ITC3      7   \n",
       "2011  2025-01-27  SIC       1     0     1     1  ITG  ITG1     19   \n",
       "2012  2025-02-04  MAR       2     0     2     2  ITI  ITI3     11   \n",
       "2013  2025-02-02  EMR       1     1     0     1  ITH  ITH5      8   \n",
       "\n",
       "                        reg  \n",
       "0                  Campania  \n",
       "1     Friuli-Venezia Giulia  \n",
       "2                    Molise  \n",
       "3                   Toscana  \n",
       "4                   Toscana  \n",
       "...                     ...  \n",
       "2009         Emilia-Romagna  \n",
       "2010                Liguria  \n",
       "2011                Sicilia  \n",
       "2012                 Marche  \n",
       "2013         Emilia-Romagna  \n",
       "\n",
       "[2014 rows x 10 columns]>"
      ]
     },
     "execution_count": 8,
     "metadata": {},
     "output_type": "execute_result"
    }
   ],
   "source": [
    "df.describe"
   ]
  },
  {
   "cell_type": "code",
   "execution_count": 10,
   "id": "13800bc9-3ffa-4faf-81d0-81f2e529754b",
   "metadata": {},
   "outputs": [
    {
     "data": {
      "text/html": [
       "<div>\n",
       "<style scoped>\n",
       "    .dataframe tbody tr th:only-of-type {\n",
       "        vertical-align: middle;\n",
       "    }\n",
       "\n",
       "    .dataframe tbody tr th {\n",
       "        vertical-align: top;\n",
       "    }\n",
       "\n",
       "    .dataframe thead th {\n",
       "        text-align: right;\n",
       "    }\n",
       "</style>\n",
       "<table border=\"1\" class=\"dataframe\">\n",
       "  <thead>\n",
       "    <tr style=\"text-align: right;\">\n",
       "      <th></th>\n",
       "      <th>data</th>\n",
       "      <th>area</th>\n",
       "      <th>totale</th>\n",
       "      <th>m</th>\n",
       "      <th>f</th>\n",
       "      <th>d</th>\n",
       "      <th>N1</th>\n",
       "      <th>N2</th>\n",
       "      <th>ISTAT</th>\n",
       "      <th>reg</th>\n",
       "    </tr>\n",
       "  </thead>\n",
       "  <tbody>\n",
       "    <tr>\n",
       "      <th>0</th>\n",
       "      <td>2024-11-28</td>\n",
       "      <td>CAM</td>\n",
       "      <td>138</td>\n",
       "      <td>73</td>\n",
       "      <td>65</td>\n",
       "      <td>138</td>\n",
       "      <td>ITF</td>\n",
       "      <td>ITF3</td>\n",
       "      <td>15</td>\n",
       "      <td>Campania</td>\n",
       "    </tr>\n",
       "    <tr>\n",
       "      <th>1</th>\n",
       "      <td>2024-10-25</td>\n",
       "      <td>FVG</td>\n",
       "      <td>487</td>\n",
       "      <td>257</td>\n",
       "      <td>230</td>\n",
       "      <td>487</td>\n",
       "      <td>ITH</td>\n",
       "      <td>ITH4</td>\n",
       "      <td>6</td>\n",
       "      <td>Friuli-Venezia Giulia</td>\n",
       "    </tr>\n",
       "    <tr>\n",
       "      <th>2</th>\n",
       "      <td>2024-12-03</td>\n",
       "      <td>MOL</td>\n",
       "      <td>8</td>\n",
       "      <td>4</td>\n",
       "      <td>4</td>\n",
       "      <td>8</td>\n",
       "      <td>ITF</td>\n",
       "      <td>ITF2</td>\n",
       "      <td>14</td>\n",
       "      <td>Molise</td>\n",
       "    </tr>\n",
       "    <tr>\n",
       "      <th>3</th>\n",
       "      <td>2024-11-07</td>\n",
       "      <td>TOS</td>\n",
       "      <td>3184</td>\n",
       "      <td>1489</td>\n",
       "      <td>1695</td>\n",
       "      <td>3184</td>\n",
       "      <td>ITI</td>\n",
       "      <td>ITI1</td>\n",
       "      <td>9</td>\n",
       "      <td>Toscana</td>\n",
       "    </tr>\n",
       "    <tr>\n",
       "      <th>4</th>\n",
       "      <td>2024-11-03</td>\n",
       "      <td>TOS</td>\n",
       "      <td>2</td>\n",
       "      <td>0</td>\n",
       "      <td>2</td>\n",
       "      <td>2</td>\n",
       "      <td>ITI</td>\n",
       "      <td>ITI1</td>\n",
       "      <td>9</td>\n",
       "      <td>Toscana</td>\n",
       "    </tr>\n",
       "  </tbody>\n",
       "</table>\n",
       "</div>"
      ],
      "text/plain": [
       "         data area  totale     m     f     d   N1    N2  ISTAT  \\\n",
       "0  2024-11-28  CAM     138    73    65   138  ITF  ITF3     15   \n",
       "1  2024-10-25  FVG     487   257   230   487  ITH  ITH4      6   \n",
       "2  2024-12-03  MOL       8     4     4     8  ITF  ITF2     14   \n",
       "3  2024-11-07  TOS    3184  1489  1695  3184  ITI  ITI1      9   \n",
       "4  2024-11-03  TOS       2     0     2     2  ITI  ITI1      9   \n",
       "\n",
       "                     reg  \n",
       "0               Campania  \n",
       "1  Friuli-Venezia Giulia  \n",
       "2                 Molise  \n",
       "3                Toscana  \n",
       "4                Toscana  "
      ]
     },
     "execution_count": 10,
     "metadata": {},
     "output_type": "execute_result"
    }
   ],
   "source": [
    "df.head()"
   ]
  },
  {
   "cell_type": "code",
   "execution_count": 18,
   "id": "9d35cc32-d56e-4fbd-944b-e96c2c3ffad0",
   "metadata": {},
   "outputs": [
    {
     "data": {
      "text/plain": [
       "<matplotlib.collections.PathCollection at 0x115b25bd0>"
      ]
     },
     "execution_count": 18,
     "metadata": {},
     "output_type": "execute_result"
    },
    {
     "data": {
      "image/png": "[encoded data removed]",
      "text/plain": [
       "<Figure size 640x480 with 1 Axes>"
      ]
     },
     "metadata": {},
     "output_type": "display_data"
    }
   ],
   "source": [
    "plt.title(\"Scatterplot UOMO-DONNA\")\n",
    "plt.xlabel(\"Utenti Maschili\")\n",
    "plt.ylabel(\"Utenti Femminili\")\n",
    "\n",
    "plt.scatter(df['m'], df['f'], color='b', marker='x')"
   ]
  },
  {
   "cell_type": "code",
   "execution_count": 26,
   "id": "efd18eea-e477-4e0d-b8b1-584c655a582f",
   "metadata": {},
   "outputs": [],
   "source": [
    "valori_uniciN1=df[\"N1\"].unique()\n",
    "valori_uniciN2=df[\"N2\"].unique()"
   ]
  },
  {
   "cell_type": "code",
   "execution_count": 27,
   "id": "08ea2acf-ea38-4925-b7f9-ac59fef72893",
   "metadata": {},
   "outputs": [
    {
     "name": "stdout",
     "output_type": "stream",
     "text": [
      "['ITF' 'ITH' 'ITI' 'ITC' 'ITG']\n",
      "['ITF3' 'ITH4' 'ITF2' 'ITI1' 'ITF5' 'ITC2' 'ITC4' 'ITH3' 'ITF4' 'ITC1'\n",
      " 'ITG1' 'ITH2' 'ITH5' 'ITF6' 'ITG2' 'ITC3' 'ITH1' 'ITI4' 'ITI2' 'ITF1'\n",
      " 'ITI3']\n"
     ]
    }
   ],
   "source": [
    "print(valori_uniciN1)\n",
    "print(valori_uniciN2)"
   ]
  }
 ],
 "metadata": {
  "kernelspec": {
   "display_name": "Python 3 (ipykernel)",
   "language": "python",
   "name": "python3"
  },
  "language_info": {
   "codemirror_mode": {
    "name": "ipython",
    "version": 3
   },
   "file_extension": ".py",
   "mimetype": "text/x-python",
   "name": "python",
   "nbconvert_exporter": "python",
   "pygments_lexer": "ipython3",
   "version": "3.13.1"
  }
 },
 "nbformat": 4,
 "nbformat_minor": 5
}
